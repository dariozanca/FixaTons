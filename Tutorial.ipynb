{
 "cells": [
  {
   "cell_type": "markdown",
   "metadata": {},
   "source": [
    "# Tutorial: How To Use FixaTons\n",
    "FixaTons is a collection of publicly available datasets of human fixations.\n",
    "It includes only those dataset which provide temporal information about scanpaths (and not only saliency or fixation maps)."
   ]
  },
  {
   "cell_type": "markdown",
   "metadata": {},
   "source": [
    "To use the functions provided with the dataset it is sufficient to import the library inside the code in this way"
   ]
  },
  {
   "cell_type": "code",
   "execution_count": 1,
   "metadata": {},
   "outputs": [],
   "source": [
    "import FixaTons"
   ]
  },
  {
   "cell_type": "markdown",
   "metadata": {},
   "source": [
    "This library includes function to assolve basically four different kind of operations:\n",
    "    - list informations about the dataset\n",
    "    - get data (in numpy matrix form)\n",
    "    - visualize data\n",
    "    - compute metrics (for saliency and scanpath similarity)"
   ]
  },
  {
   "cell_type": "markdown",
   "metadata": {},
   "source": [
    "## List informations about the dataset"
   ]
  },
  {
   "cell_type": "markdown",
   "metadata": {},
   "source": [
    "The collection comprehend different dataset, each of them with different pictures, subjects,etc.  Provided software allows to easily get this kind of information in form of list of strings."
   ]
  },
  {
   "cell_type": "code",
   "execution_count": null,
   "metadata": {},
   "outputs": [],
   "source": [
    "FixaTons.info.datasets()"
   ]
  },
  {
   "cell_type": "code",
   "execution_count": null,
   "metadata": {},
   "outputs": [],
   "source": [
    "FixaTons.info.stimuli('SIENA12')"
   ]
  },
  {
   "cell_type": "code",
   "execution_count": null,
   "metadata": {},
   "outputs": [],
   "source": [
    "FixaTons.info.subjects('SIENA12', 'roof_of_flowers.jpg')"
   ]
  },
  {
   "cell_type": "markdown",
   "metadata": {},
   "source": [
    "### Get data (in numpy matrix form)\n",
    "Some other functions allows to get specific data in form of numpy matrix. For example we can define some constant strings"
   ]
  },
  {
   "cell_type": "code",
   "execution_count": 2,
   "metadata": {},
   "outputs": [],
   "source": [
    "DATASET_NAME = 'SIENA12'\n",
    "STIMULUS_NAME = 'roof_of_flowers.jpg'\n",
    "SUBJECT_ID = 'AR_06102016'"
   ]
  },
  {
   "cell_type": "markdown",
   "metadata": {},
   "source": [
    "and then get all possible data associated to them:"
   ]
  },
  {
   "cell_type": "code",
   "execution_count": null,
   "metadata": {},
   "outputs": [],
   "source": [
    "stimulus_matrix = FixaTons.get.stimulus(DATASET_NAME, STIMULUS_NAME)\n",
    "saliency_map_matrix = FixaTons.get.saliency_map(DATASET_NAME, STIMULUS_NAME)\n",
    "fixation_map_matrix = FixaTons.get.fixation_map(DATASET_NAME, STIMULUS_NAME)"
   ]
  },
  {
   "cell_type": "markdown",
   "metadata": {},
   "source": [
    "Please note that, while stimulus is always a 3d-matrix (it includes channels of color, even in the case of black and white pictures)"
   ]
  },
  {
   "cell_type": "code",
   "execution_count": null,
   "metadata": {},
   "outputs": [],
   "source": [
    "print('Stimulus dims = ', stimulus_matrix.shape)"
   ]
  },
  {
   "cell_type": "markdown",
   "metadata": {},
   "source": [
    "saliency maps and fixation maps are always 2d-matrices"
   ]
  },
  {
   "cell_type": "code",
   "execution_count": null,
   "metadata": {},
   "outputs": [],
   "source": [
    "print('Saliency map dims =', saliency_map_matrix.shape)\n",
    "print('Fixation map dims =', fixation_map_matrix.shape)"
   ]
  },
  {
   "cell_type": "markdown",
   "metadata": {},
   "source": [
    "It is also possible to get scanpaths (temporal sequance of fixations). In this case it is necessary to specify the id of the specif subject"
   ]
  },
  {
   "cell_type": "code",
   "execution_count": null,
   "metadata": {
    "scrolled": true
   },
   "outputs": [],
   "source": [
    "scanpath = FixaTons.get.scanpath(DATASET_NAME, STIMULUS_NAME, subject = SUBJECT_ID)\n",
    "print(scanpath)"
   ]
  },
  {
   "cell_type": "code",
   "execution_count": null,
   "metadata": {},
   "outputs": [],
   "source": [
    "scanpath.shape"
   ]
  },
  {
   "cell_type": "markdown",
   "metadata": {},
   "source": [
    "Scanpaths have different lengths that depend strongly on the time of exposition of the subject to the stimulus, which differs a lot between datasets. Consider that, humans perform in average 3/4 fixations per seconds. See main report for more details."
   ]
  },
  {
   "cell_type": "code",
   "execution_count": null,
   "metadata": {},
   "outputs": [],
   "source": [
    "print(\"This scanpath has {} fixations.\".format(len(scanpath)))"
   ]
  },
  {
   "cell_type": "markdown",
   "metadata": {},
   "source": [
    "It is also possible to get a random scanpath by leaving subject argument unspecified"
   ]
  },
  {
   "cell_type": "code",
   "execution_count": null,
   "metadata": {},
   "outputs": [],
   "source": [
    "scanpath = FixaTons.get.scanpath(DATASET_NAME, STIMULUS_NAME)\n",
    "print(\"This other scanpath has {} fixations, instead\".format(len(scanpath)))"
   ]
  },
  {
   "cell_type": "markdown",
   "metadata": {},
   "source": [
    "### Visualize data"
   ]
  },
  {
   "cell_type": "markdown",
   "metadata": {},
   "source": [
    "Two functions are also include to an easy visualization of the data. In particular, one of them allows to visualize maps alongside the stimulus"
   ]
  },
  {
   "cell_type": "code",
   "execution_count": null,
   "metadata": {},
   "outputs": [],
   "source": [
    "FixaTons.show.map(DATASET_NAME, STIMULUS_NAME, \n",
    "                  showSalMap = True, showFixMap = False,\n",
    "                  wait_time=5000, plotMaxDim = 1024)"
   ]
  },
  {
   "cell_type": "markdown",
   "metadata": {},
   "source": [
    "This functions uses cv2 standard library to visualize a specified stimulus.  By default, stimulus is shown with itssaliency map aside.  It is possible to deactivate such option by setting the additional argument showSalMap=False.  It is possible to show also (or alternatively) the fixation map by setting the additional argument showFixMap=True.\n",
    "\n",
    "Depending on the monitor  or  the  image  dimensions,  it  could  be  convenient  to  resize  the  images  before  to  plot  them.   In  such  a  case,  user  could  indicate  in  the  additional  argument plotMaxDim=1024 to set, for example, the maximum dimension to 1024.\n",
    "\n",
    "By default, images are not resized. By default, plot lasts only five seconds. This time can be modified passing a different time in the argument wait_time. If 0 is passed, plot lasts until a key is pressed.\n",
    "\n",
    "To observe a single scanpath, the following function"
   ]
  },
  {
   "cell_type": "code",
   "execution_count": null,
   "metadata": {},
   "outputs": [],
   "source": [
    "FixaTons.show.scanpath(DATASET_NAME, STIMULUS_NAME, subject= SUBJECT_ID, \n",
    "                       animation = True, wait_time = 0, \n",
    "                       putLines = True, putNumbers = True, \n",
    "                       plotMaxDim = 1024)"
   ]
  },
  {
   "cell_type": "markdown",
   "metadata": {},
   "source": [
    "uses the cv2 standard library.  If no subject is specified, the functions randomly select a scanpath to show. \n",
    "\n",
    "By default, fixations are plotted as an animation. It is possible to deactivate this option by setting the argument animation=False. Also, ordinal numbers are plotted on fixations and lines between successive fixations are drawn.\n",
    "\n",
    "Depending on the monitor or the image dimensions, it could be convenient to resizethe images before to plot them.  In such a case, user could indicate in the additionalargument plotMaxDim=1024 to set, for example, the maximum dimension to 1024.  Bydefault, images are not resized."
   ]
  },
  {
   "cell_type": "markdown",
   "metadata": {},
   "source": [
    "### Compute metrics"
   ]
  },
  {
   "cell_type": "markdown",
   "metadata": {},
   "source": [
    "An implementation of the most common metrics to compute saliency maps similarity andscanpaths similarity is included in the software provided with FixaTons."
   ]
  },
  {
   "cell_type": "markdown",
   "metadata": {},
   "source": [
    "Saliency Map similarities:\n",
    "\n",
    "    –  FixaTons.metrics.KLdiv(saliencyMap, fixationMap)\n",
    "    –  FixaTons.metrics.AUCJudd(saliencyMap, fixationMap, jitter = True,toPlot = False)\n",
    "    –  FixaTons.metrics.NSS(saliencyMap, fixationMap)"
   ]
  },
  {
   "cell_type": "markdown",
   "metadata": {},
   "source": [
    "Scanpaths similarities:\n",
    "\n",
    "- FixaTons.metrics.euclideandistance(humanscanpath, simulatedscanpath)\n",
    "- FixaTons.metrics.stringeditdistance(stimulus, humanscanpath, simulatedscanpath, n = 5, substitutioncost=1)\n",
    "- FixaTons.metrics.timedelayembeddingdistance(humanscanpath, simulatedscanpath, k = 3, distancemode = ’Mean’)\n",
    "- FixaTons.metrics.scaledtimedelayembeddingdistance(humanscanpath,simulatedscanpath, image, toPlot = False))\n",
    "- FixaTons.metrics.string_based_time_delay_embedding_distance(humanscanpath, simulatedscanpath, stim_width, stim_height)\n",
    "- FixaTons.metrics.scanMatch_metric(humanscanpath, simulatedscanpath, stim_width, stim_height)\n",
    "- FixaTons.metrics.multiMatch_metric(humanscanpath, simulatedscanpath, stim_width, stim_height)\n",
    "- FixaTons.metrics.compute_rqa_metrics(humanscanpath, simulatedscanpath, stim_width, stim_height)"
   ]
  },
  {
   "cell_type": "markdown",
   "metadata": {},
   "source": [
    "More details about this metrics are given in the main report."
   ]
  },
  {
   "cell_type": "code",
   "execution_count": 8,
   "metadata": {},
   "outputs": [],
   "source": [
    "#Two Scanpaths\n",
    "s1 = FixaTons.get.scanpath(DATASET_NAME, STIMULUS_NAME, subject = 'AR_06102016')\n",
    "s2 = FixaTons.get.scanpath(DATASET_NAME, STIMULUS_NAME, subject = 'MB_20102016')"
   ]
  },
  {
   "cell_type": "code",
   "execution_count": 9,
   "metadata": {},
   "outputs": [
    {
     "data": {
      "text/plain": [
       "0.2"
      ]
     },
     "execution_count": 9,
     "metadata": {},
     "output_type": "execute_result"
    }
   ],
   "source": [
    "SBTDE = FixaTons.metrics.string_based_time_delay_embedding_distance(s1, s2, 1024, 768)\n",
    "SBTDE"
   ]
  },
  {
   "cell_type": "code",
   "execution_count": 10,
   "metadata": {},
   "outputs": [
    {
     "data": {
      "text/plain": [
       "0.4014052892879683"
      ]
     },
     "execution_count": 10,
     "metadata": {},
     "output_type": "execute_result"
    }
   ],
   "source": [
    "#ScanMatch\n",
    "SM_score = FixaTons.metrics.scanMatch_metric(s1, s2, 1024, 768)\n",
    "SM_score"
   ]
  },
  {
   "cell_type": "code",
   "execution_count": 11,
   "metadata": {},
   "outputs": [
    {
     "data": {
      "text/plain": [
       "(0.9658307347354105,\n",
       " 0.8241875174198714,\n",
       " 0.9489694022053696,\n",
       " 0.8882270661423575,\n",
       " 0.49647169195627305)"
      ]
     },
     "execution_count": 11,
     "metadata": {},
     "output_type": "execute_result"
    }
   ],
   "source": [
    "#MultiMatch\n",
    "shape, direction, length, position, duration = FixaTons.metrics.multiMatch_metric(s1, s2, 1024, 768)\n",
    "shape, direction, length, position, duration"
   ]
  },
  {
   "cell_type": "code",
   "execution_count": 12,
   "metadata": {},
   "outputs": [
    {
     "data": {
      "text/plain": [
       "(61.904761904761905, 85.71428571428571, 20.833333333333336, 7.26643598615917)"
      ]
     },
     "execution_count": 12,
     "metadata": {},
     "output_type": "execute_result"
    }
   ],
   "source": [
    "#Recurrence Quantification Analysis (RQA)\n",
    "determinism, laminarity, corm, crossrec = FixaTons.metrics.compute_rqa_metrics(s1, s2, 1024, 768)\n",
    "determinism, laminarity, corm, crossrec"
   ]
  },
  {
   "cell_type": "code",
   "execution_count": null,
   "metadata": {},
   "outputs": [],
   "source": []
  }
 ],
 "metadata": {
  "kernelspec": {
   "display_name": "Python 3 (ipykernel)",
   "language": "python",
   "name": "python3"
  },
  "language_info": {
   "codemirror_mode": {
    "name": "ipython",
    "version": 3
   },
   "file_extension": ".py",
   "mimetype": "text/x-python",
   "name": "python",
   "nbconvert_exporter": "python",
   "pygments_lexer": "ipython3",
   "version": "3.8.8"
  }
 },
 "nbformat": 4,
 "nbformat_minor": 2
}
